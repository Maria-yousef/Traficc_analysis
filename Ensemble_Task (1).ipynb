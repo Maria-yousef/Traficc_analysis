{
 "cells": [
  {
   "cell_type": "markdown",
   "id": "9ae4cc02",
   "metadata": {
    "id": "9ae4cc02"
   },
   "source": [
    "# Ensemble Methods Notebook\n",
    "Welcome to the weekly project on Ensemble Methods. You will be working with a dataset of traffic jams.\n",
    "\n",
    "## Dataset\n",
    "The dataset that will be used in this task is `Traffic_Jam.csv`\n",
    "\n",
    "## Instructions\n",
    "- Follow the steps outlined below.\n",
    "- Write your code in the empty code cells.\n",
    "- Comment on your code to explain your reasoning.\n",
    "\n",
    "## Dataset Overview\n",
    "This dataset contains traffic data including various counts of vehicle types across different times and days. Below are samples of these columns:\n",
    "\n",
    "* `Time`: The timestamp of the traffic count (in intervals).\n",
    "* `Date`: The day of the month the data was recorded.\n",
    "* `Day of the Week`: The day of the week for the recorded data.\n",
    "* `CarCount`: The number of cars counted during the time interval.\n",
    "* `BikeCount`: The number of bikes counted during the time interval.\n",
    "* `BusCount`: The number of buses counted during the time interval.\n",
    "* `TruckCount`: The number of trucks counted during the time interval.\n",
    "* `Total`: Total vehicles counted during the time interval.\n",
    "* `Traffic Situation`: Qualitative assessment of the traffic (e.g., normal, congested).\n",
    "\n",
    "## Goal\n",
    "The primary goal of this exam is to develop a predictive model capable of determining the `Traffic Situation` based on your choice of features provided in the dataset. Students are expected to apply ensemble methods to build and evaluate their models."
   ]
  },
  {
   "cell_type": "markdown",
   "id": "0243f5f9",
   "metadata": {
    "id": "0243f5f9"
   },
   "source": [
    "# Import Libraries"
   ]
  },
  {
   "cell_type": "code",
   "execution_count": 4,
   "id": "cd906704",
   "metadata": {
    "id": "cd906704"
   },
   "outputs": [],
   "source": [
    "import pandas as pd\n",
    "import numpy as np\n",
    "from sklearn.preprocessing import LabelEncoder\n",
    "from sklearn.preprocessing import StandardScaler\n",
    "from sklearn.model_selection import train_test_split\n",
    "import seaborn as sns\n",
    "import matplotlib.pyplot as plt\n",
    "from sklearn.ensemble import RandomForestClassifier, BaggingClassifier\n",
    "from sklearn.metrics import accuracy_score\n",
    "from sklearn.tree import DecisionTreeClassifier\n",
    "from sklearn.ensemble import AdaBoostClassifier\n",
    "from sklearn.linear_model import LogisticRegression"
   ]
  },
  {
   "cell_type": "markdown",
   "id": "3bc0f20e",
   "metadata": {
    "id": "3bc0f20e"
   },
   "source": [
    "# Load the dataset\n"
   ]
  },
  {
   "cell_type": "code",
   "execution_count": 7,
   "id": "47ecb305",
   "metadata": {
    "id": "47ecb305"
   },
   "outputs": [
    {
     "data": {
      "text/html": [
       "<div>\n",
       "<style scoped>\n",
       "    .dataframe tbody tr th:only-of-type {\n",
       "        vertical-align: middle;\n",
       "    }\n",
       "\n",
       "    .dataframe tbody tr th {\n",
       "        vertical-align: top;\n",
       "    }\n",
       "\n",
       "    .dataframe thead th {\n",
       "        text-align: right;\n",
       "    }\n",
       "</style>\n",
       "<table border=\"1\" class=\"dataframe\">\n",
       "  <thead>\n",
       "    <tr style=\"text-align: right;\">\n",
       "      <th></th>\n",
       "      <th>Time</th>\n",
       "      <th>Date</th>\n",
       "      <th>Day of the week</th>\n",
       "      <th>CarCount</th>\n",
       "      <th>BikeCount</th>\n",
       "      <th>BusCount</th>\n",
       "      <th>TruckCount</th>\n",
       "      <th>Total</th>\n",
       "      <th>Traffic Situation</th>\n",
       "    </tr>\n",
       "  </thead>\n",
       "  <tbody>\n",
       "    <tr>\n",
       "      <th>0</th>\n",
       "      <td>12:00:00 AM</td>\n",
       "      <td>10</td>\n",
       "      <td>Tuesday</td>\n",
       "      <td>13</td>\n",
       "      <td>2</td>\n",
       "      <td>2</td>\n",
       "      <td>24</td>\n",
       "      <td>41</td>\n",
       "      <td>normal</td>\n",
       "    </tr>\n",
       "    <tr>\n",
       "      <th>1</th>\n",
       "      <td>12:15:00 AM</td>\n",
       "      <td>10</td>\n",
       "      <td>Tuesday</td>\n",
       "      <td>14</td>\n",
       "      <td>1</td>\n",
       "      <td>1</td>\n",
       "      <td>36</td>\n",
       "      <td>52</td>\n",
       "      <td>normal</td>\n",
       "    </tr>\n",
       "    <tr>\n",
       "      <th>2</th>\n",
       "      <td>12:30:00 AM</td>\n",
       "      <td>10</td>\n",
       "      <td>Tuesday</td>\n",
       "      <td>10</td>\n",
       "      <td>2</td>\n",
       "      <td>2</td>\n",
       "      <td>32</td>\n",
       "      <td>46</td>\n",
       "      <td>normal</td>\n",
       "    </tr>\n",
       "    <tr>\n",
       "      <th>3</th>\n",
       "      <td>12:45:00 AM</td>\n",
       "      <td>10</td>\n",
       "      <td>Tuesday</td>\n",
       "      <td>10</td>\n",
       "      <td>2</td>\n",
       "      <td>2</td>\n",
       "      <td>36</td>\n",
       "      <td>50</td>\n",
       "      <td>normal</td>\n",
       "    </tr>\n",
       "    <tr>\n",
       "      <th>4</th>\n",
       "      <td>1:00:00 AM</td>\n",
       "      <td>10</td>\n",
       "      <td>Tuesday</td>\n",
       "      <td>11</td>\n",
       "      <td>2</td>\n",
       "      <td>1</td>\n",
       "      <td>34</td>\n",
       "      <td>48</td>\n",
       "      <td>normal</td>\n",
       "    </tr>\n",
       "  </tbody>\n",
       "</table>\n",
       "</div>"
      ],
      "text/plain": [
       "          Time  Date Day of the week  CarCount  BikeCount  BusCount  \\\n",
       "0  12:00:00 AM    10         Tuesday        13          2         2   \n",
       "1  12:15:00 AM    10         Tuesday        14          1         1   \n",
       "2  12:30:00 AM    10         Tuesday        10          2         2   \n",
       "3  12:45:00 AM    10         Tuesday        10          2         2   \n",
       "4   1:00:00 AM    10         Tuesday        11          2         1   \n",
       "\n",
       "   TruckCount  Total Traffic Situation  \n",
       "0          24     41            normal  \n",
       "1          36     52            normal  \n",
       "2          32     46            normal  \n",
       "3          36     50            normal  \n",
       "4          34     48            normal  "
      ]
     },
     "execution_count": 7,
     "metadata": {},
     "output_type": "execute_result"
    }
   ],
   "source": [
    "df=pd.read_csv('Traffic_Jams.csv')\n",
    "df.head()"
   ]
  },
  {
   "cell_type": "code",
   "execution_count": 10,
   "id": "54c5f748",
   "metadata": {},
   "outputs": [
    {
     "data": {
      "text/html": [
       "<div>\n",
       "<style scoped>\n",
       "    .dataframe tbody tr th:only-of-type {\n",
       "        vertical-align: middle;\n",
       "    }\n",
       "\n",
       "    .dataframe tbody tr th {\n",
       "        vertical-align: top;\n",
       "    }\n",
       "\n",
       "    .dataframe thead th {\n",
       "        text-align: right;\n",
       "    }\n",
       "</style>\n",
       "<table border=\"1\" class=\"dataframe\">\n",
       "  <thead>\n",
       "    <tr style=\"text-align: right;\">\n",
       "      <th></th>\n",
       "      <th>Time</th>\n",
       "      <th>Date</th>\n",
       "      <th>Day of the week</th>\n",
       "      <th>CarCount</th>\n",
       "      <th>BikeCount</th>\n",
       "      <th>BusCount</th>\n",
       "      <th>TruckCount</th>\n",
       "      <th>Total</th>\n",
       "      <th>Traffic Situation</th>\n",
       "    </tr>\n",
       "  </thead>\n",
       "  <tbody>\n",
       "    <tr>\n",
       "      <th>0</th>\n",
       "      <td>12:00:00 AM</td>\n",
       "      <td>10</td>\n",
       "      <td>Tuesday</td>\n",
       "      <td>13</td>\n",
       "      <td>2</td>\n",
       "      <td>2</td>\n",
       "      <td>24</td>\n",
       "      <td>41</td>\n",
       "      <td>normal</td>\n",
       "    </tr>\n",
       "    <tr>\n",
       "      <th>1</th>\n",
       "      <td>12:15:00 AM</td>\n",
       "      <td>10</td>\n",
       "      <td>Tuesday</td>\n",
       "      <td>14</td>\n",
       "      <td>1</td>\n",
       "      <td>1</td>\n",
       "      <td>36</td>\n",
       "      <td>52</td>\n",
       "      <td>normal</td>\n",
       "    </tr>\n",
       "    <tr>\n",
       "      <th>2</th>\n",
       "      <td>12:30:00 AM</td>\n",
       "      <td>10</td>\n",
       "      <td>Tuesday</td>\n",
       "      <td>10</td>\n",
       "      <td>2</td>\n",
       "      <td>2</td>\n",
       "      <td>32</td>\n",
       "      <td>46</td>\n",
       "      <td>normal</td>\n",
       "    </tr>\n",
       "    <tr>\n",
       "      <th>3</th>\n",
       "      <td>12:45:00 AM</td>\n",
       "      <td>10</td>\n",
       "      <td>Tuesday</td>\n",
       "      <td>10</td>\n",
       "      <td>2</td>\n",
       "      <td>2</td>\n",
       "      <td>36</td>\n",
       "      <td>50</td>\n",
       "      <td>normal</td>\n",
       "    </tr>\n",
       "    <tr>\n",
       "      <th>4</th>\n",
       "      <td>1:00:00 AM</td>\n",
       "      <td>10</td>\n",
       "      <td>Tuesday</td>\n",
       "      <td>11</td>\n",
       "      <td>2</td>\n",
       "      <td>1</td>\n",
       "      <td>34</td>\n",
       "      <td>48</td>\n",
       "      <td>normal</td>\n",
       "    </tr>\n",
       "    <tr>\n",
       "      <th>...</th>\n",
       "      <td>...</td>\n",
       "      <td>...</td>\n",
       "      <td>...</td>\n",
       "      <td>...</td>\n",
       "      <td>...</td>\n",
       "      <td>...</td>\n",
       "      <td>...</td>\n",
       "      <td>...</td>\n",
       "      <td>...</td>\n",
       "    </tr>\n",
       "    <tr>\n",
       "      <th>6319</th>\n",
       "      <td>10:30:00 AM</td>\n",
       "      <td>9</td>\n",
       "      <td>Thursday</td>\n",
       "      <td>26</td>\n",
       "      <td>16</td>\n",
       "      <td>13</td>\n",
       "      <td>16</td>\n",
       "      <td>71</td>\n",
       "      <td>normal</td>\n",
       "    </tr>\n",
       "    <tr>\n",
       "      <th>6320</th>\n",
       "      <td>8:00:00 PM</td>\n",
       "      <td>9</td>\n",
       "      <td>Thursday</td>\n",
       "      <td>72</td>\n",
       "      <td>25</td>\n",
       "      <td>10</td>\n",
       "      <td>27</td>\n",
       "      <td>134</td>\n",
       "      <td>high</td>\n",
       "    </tr>\n",
       "    <tr>\n",
       "      <th>6321</th>\n",
       "      <td>9:00:00 PM</td>\n",
       "      <td>9</td>\n",
       "      <td>Thursday</td>\n",
       "      <td>107</td>\n",
       "      <td>13</td>\n",
       "      <td>14</td>\n",
       "      <td>28</td>\n",
       "      <td>162</td>\n",
       "      <td>high</td>\n",
       "    </tr>\n",
       "    <tr>\n",
       "      <th>6322</th>\n",
       "      <td>9:30:00 PM</td>\n",
       "      <td>9</td>\n",
       "      <td>Thursday</td>\n",
       "      <td>106</td>\n",
       "      <td>18</td>\n",
       "      <td>13</td>\n",
       "      <td>27</td>\n",
       "      <td>164</td>\n",
       "      <td>high</td>\n",
       "    </tr>\n",
       "    <tr>\n",
       "      <th>6323</th>\n",
       "      <td>11:45:00 PM</td>\n",
       "      <td>9</td>\n",
       "      <td>Thursday</td>\n",
       "      <td>14</td>\n",
       "      <td>3</td>\n",
       "      <td>1</td>\n",
       "      <td>15</td>\n",
       "      <td>33</td>\n",
       "      <td>normal</td>\n",
       "    </tr>\n",
       "  </tbody>\n",
       "</table>\n",
       "<p>6324 rows × 9 columns</p>\n",
       "</div>"
      ],
      "text/plain": [
       "             Time  Date Day of the week  CarCount  BikeCount  BusCount  \\\n",
       "0     12:00:00 AM    10         Tuesday        13          2         2   \n",
       "1     12:15:00 AM    10         Tuesday        14          1         1   \n",
       "2     12:30:00 AM    10         Tuesday        10          2         2   \n",
       "3     12:45:00 AM    10         Tuesday        10          2         2   \n",
       "4      1:00:00 AM    10         Tuesday        11          2         1   \n",
       "...           ...   ...             ...       ...        ...       ...   \n",
       "6319  10:30:00 AM     9        Thursday        26         16        13   \n",
       "6320   8:00:00 PM     9        Thursday        72         25        10   \n",
       "6321   9:00:00 PM     9        Thursday       107         13        14   \n",
       "6322   9:30:00 PM     9        Thursday       106         18        13   \n",
       "6323  11:45:00 PM     9        Thursday        14          3         1   \n",
       "\n",
       "      TruckCount  Total Traffic Situation  \n",
       "0             24     41            normal  \n",
       "1             36     52            normal  \n",
       "2             32     46            normal  \n",
       "3             36     50            normal  \n",
       "4             34     48            normal  \n",
       "...          ...    ...               ...  \n",
       "6319          16     71            normal  \n",
       "6320          27    134              high  \n",
       "6321          28    162              high  \n",
       "6322          27    164              high  \n",
       "6323          15     33            normal  \n",
       "\n",
       "[6324 rows x 9 columns]"
      ]
     },
     "execution_count": 10,
     "metadata": {},
     "output_type": "execute_result"
    }
   ],
   "source": [
    "df"
   ]
  },
  {
   "cell_type": "markdown",
   "id": "41f23906",
   "metadata": {
    "id": "41f23906"
   },
   "source": [
    "# Exploratory Data Analysis (EDA)\n",
    "\n",
    "Below are some steps and visualizations to perform EDA on the dataset:\n",
    "\n",
    "1. **Summary Statistics**: Obtain summary statistics for the dataset to understand the central tendencies and dispersion of numerical features.describe()\n",
    "\n",
    "2. **Distribution of the Target Variable**: Analyze the distribution of the target variable `Traffic Situation` to understand the class balance.\n",
    "\n",
    "3. **Correlation Analysis**: Analyze correlations between features."
   ]
  },
  {
   "cell_type": "code",
   "execution_count": 3,
   "id": "140e99fb",
   "metadata": {
    "id": "140e99fb"
   },
   "outputs": [
    {
     "data": {
      "text/html": [
       "<div>\n",
       "<style scoped>\n",
       "    .dataframe tbody tr th:only-of-type {\n",
       "        vertical-align: middle;\n",
       "    }\n",
       "\n",
       "    .dataframe tbody tr th {\n",
       "        vertical-align: top;\n",
       "    }\n",
       "\n",
       "    .dataframe thead th {\n",
       "        text-align: right;\n",
       "    }\n",
       "</style>\n",
       "<table border=\"1\" class=\"dataframe\">\n",
       "  <thead>\n",
       "    <tr style=\"text-align: right;\">\n",
       "      <th></th>\n",
       "      <th>Date</th>\n",
       "      <th>CarCount</th>\n",
       "      <th>BikeCount</th>\n",
       "      <th>BusCount</th>\n",
       "      <th>TruckCount</th>\n",
       "      <th>Total</th>\n",
       "    </tr>\n",
       "  </thead>\n",
       "  <tbody>\n",
       "    <tr>\n",
       "      <th>count</th>\n",
       "      <td>6324.000000</td>\n",
       "      <td>6324.000000</td>\n",
       "      <td>6324.000000</td>\n",
       "      <td>6324.000000</td>\n",
       "      <td>6324.000000</td>\n",
       "      <td>6324.000000</td>\n",
       "    </tr>\n",
       "    <tr>\n",
       "      <th>mean</th>\n",
       "      <td>16.043327</td>\n",
       "      <td>64.355629</td>\n",
       "      <td>12.013283</td>\n",
       "      <td>12.557875</td>\n",
       "      <td>18.658128</td>\n",
       "      <td>107.584915</td>\n",
       "    </tr>\n",
       "    <tr>\n",
       "      <th>std</th>\n",
       "      <td>8.956907</td>\n",
       "      <td>44.307088</td>\n",
       "      <td>11.363955</td>\n",
       "      <td>12.319831</td>\n",
       "      <td>10.724822</td>\n",
       "      <td>55.850784</td>\n",
       "    </tr>\n",
       "    <tr>\n",
       "      <th>min</th>\n",
       "      <td>1.000000</td>\n",
       "      <td>5.000000</td>\n",
       "      <td>0.000000</td>\n",
       "      <td>0.000000</td>\n",
       "      <td>0.000000</td>\n",
       "      <td>21.000000</td>\n",
       "    </tr>\n",
       "    <tr>\n",
       "      <th>25%</th>\n",
       "      <td>8.000000</td>\n",
       "      <td>18.000000</td>\n",
       "      <td>3.000000</td>\n",
       "      <td>1.000000</td>\n",
       "      <td>10.000000</td>\n",
       "      <td>53.000000</td>\n",
       "    </tr>\n",
       "    <tr>\n",
       "      <th>50%</th>\n",
       "      <td>16.000000</td>\n",
       "      <td>61.000000</td>\n",
       "      <td>9.000000</td>\n",
       "      <td>10.000000</td>\n",
       "      <td>18.000000</td>\n",
       "      <td>103.000000</td>\n",
       "    </tr>\n",
       "    <tr>\n",
       "      <th>75%</th>\n",
       "      <td>24.000000</td>\n",
       "      <td>101.250000</td>\n",
       "      <td>19.000000</td>\n",
       "      <td>20.000000</td>\n",
       "      <td>27.000000</td>\n",
       "      <td>151.000000</td>\n",
       "    </tr>\n",
       "    <tr>\n",
       "      <th>max</th>\n",
       "      <td>31.000000</td>\n",
       "      <td>180.000000</td>\n",
       "      <td>70.000000</td>\n",
       "      <td>50.000000</td>\n",
       "      <td>60.000000</td>\n",
       "      <td>279.000000</td>\n",
       "    </tr>\n",
       "  </tbody>\n",
       "</table>\n",
       "</div>"
      ],
      "text/plain": [
       "              Date     CarCount    BikeCount     BusCount   TruckCount  \\\n",
       "count  6324.000000  6324.000000  6324.000000  6324.000000  6324.000000   \n",
       "mean     16.043327    64.355629    12.013283    12.557875    18.658128   \n",
       "std       8.956907    44.307088    11.363955    12.319831    10.724822   \n",
       "min       1.000000     5.000000     0.000000     0.000000     0.000000   \n",
       "25%       8.000000    18.000000     3.000000     1.000000    10.000000   \n",
       "50%      16.000000    61.000000     9.000000    10.000000    18.000000   \n",
       "75%      24.000000   101.250000    19.000000    20.000000    27.000000   \n",
       "max      31.000000   180.000000    70.000000    50.000000    60.000000   \n",
       "\n",
       "             Total  \n",
       "count  6324.000000  \n",
       "mean    107.584915  \n",
       "std      55.850784  \n",
       "min      21.000000  \n",
       "25%      53.000000  \n",
       "50%     103.000000  \n",
       "75%     151.000000  \n",
       "max     279.000000  "
      ]
     },
     "execution_count": 3,
     "metadata": {},
     "output_type": "execute_result"
    }
   ],
   "source": [
    "df.describe()"
   ]
  },
  {
   "cell_type": "code",
   "execution_count": 4,
   "id": "606131e0",
   "metadata": {},
   "outputs": [
    {
     "name": "stdout",
     "output_type": "stream",
     "text": [
      "<class 'pandas.core.frame.DataFrame'>\n",
      "RangeIndex: 6324 entries, 0 to 6323\n",
      "Data columns (total 9 columns):\n",
      " #   Column             Non-Null Count  Dtype \n",
      "---  ------             --------------  ----- \n",
      " 0   Time               6324 non-null   object\n",
      " 1   Date               6324 non-null   int64 \n",
      " 2   Day of the week    6324 non-null   object\n",
      " 3   CarCount           6324 non-null   int64 \n",
      " 4   BikeCount          6324 non-null   int64 \n",
      " 5   BusCount           6324 non-null   int64 \n",
      " 6   TruckCount         6324 non-null   int64 \n",
      " 7   Total              6324 non-null   int64 \n",
      " 8   Traffic Situation  6324 non-null   object\n",
      "dtypes: int64(6), object(3)\n",
      "memory usage: 444.8+ KB\n"
     ]
    }
   ],
   "source": [
    "df.info()"
   ]
  },
  {
   "cell_type": "code",
   "execution_count": 5,
   "id": "455471a6",
   "metadata": {},
   "outputs": [
    {
     "data": {
      "text/plain": [
       "Traffic Situation\n",
       "normal    3858\n",
       "heavy     1137\n",
       "low        834\n",
       "high       495\n",
       "Name: count, dtype: int64"
      ]
     },
     "execution_count": 5,
     "metadata": {},
     "output_type": "execute_result"
    }
   ],
   "source": [
    "df['Traffic Situation'].value_counts()"
   ]
  },
  {
   "cell_type": "code",
   "execution_count": 8,
   "id": "7b041a65",
   "metadata": {},
   "outputs": [
    {
     "name": "stdout",
     "output_type": "stream",
     "text": [
      "  Day of the week  CarCount  BikeCount  BusCount  TruckCount  Total  \\\n",
      "0         Tuesday        13          2         2          24     41   \n",
      "1         Tuesday        14          1         1          36     52   \n",
      "2         Tuesday        10          2         2          32     46   \n",
      "3         Tuesday        10          2         2          36     50   \n",
      "4         Tuesday        11          2         1          34     48   \n",
      "\n",
      "  Traffic Situation  \n",
      "0            normal  \n",
      "1            normal  \n",
      "2            normal  \n",
      "3            normal  \n",
      "4            normal  \n"
     ]
    }
   ],
   "source": [
    "df_dropped = df.drop(columns=['Date', 'Time'])\n",
    "\n",
    "print(df_dropped.head())"
   ]
  },
  {
   "cell_type": "code",
   "execution_count": 9,
   "id": "6d1f73cf",
   "metadata": {},
   "outputs": [
    {
     "name": "stdout",
     "output_type": "stream",
     "text": [
      "                               Date  CarCount  BikeCount  BusCount  \\\n",
      "Date                       1.000000 -0.010507  -0.001985 -0.006166   \n",
      "CarCount                  -0.010507  1.000000   0.705941  0.664491   \n",
      "BikeCount                 -0.001985  0.705941   1.000000  0.581289   \n",
      "BusCount                  -0.006166  0.664491   0.581289  1.000000   \n",
      "TruckCount                 0.021137 -0.583984  -0.585670 -0.533847   \n",
      "...                             ...       ...        ...       ...   \n",
      "Day of the week_Tuesday    0.094868  0.003842  -0.028001  0.027810   \n",
      "Day of the week_Wednesday -0.171527  0.007614  -0.020969  0.031911   \n",
      "Traffic Situation_high     0.010751  0.107713   0.042609  0.195833   \n",
      "Traffic Situation_low     -0.016183 -0.175502  -0.125320 -0.245878   \n",
      "Traffic Situation_normal   0.012954 -0.489345  -0.411405 -0.415094   \n",
      "\n",
      "                           TruckCount     Total  Time_10:00:00 PM  \\\n",
      "Date                         0.021137 -0.006041         -0.000162   \n",
      "CarCount                    -0.583984  0.971386         -0.121198   \n",
      "BikeCount                   -0.585670  0.779261         -0.088635   \n",
      "BusCount                    -0.533847  0.763496         -0.102297   \n",
      "TruckCount                   1.000000 -0.508179          0.072235   \n",
      "...                               ...       ...               ...   \n",
      "Day of the week_Tuesday     -0.000055  0.003474         -0.003644   \n",
      "Day of the week_Wednesday    0.008204  0.010388          0.008858   \n",
      "Traffic Situation_high       0.146367  0.165423         -0.030382   \n",
      "Traffic Situation_low       -0.252577 -0.267465          0.004677   \n",
      "Traffic Situation_normal     0.454718 -0.476157          0.051918   \n",
      "\n",
      "                           Time_10:15:00 AM  Time_10:15:00 PM  \\\n",
      "Date                               0.002833          0.002483   \n",
      "CarCount                           0.004136         -0.119119   \n",
      "BikeCount                          0.028993         -0.091734   \n",
      "BusCount                           0.071873         -0.097394   \n",
      "TruckCount                        -0.038563          0.083510   \n",
      "...                                     ...               ...   \n",
      "Day of the week_Tuesday           -0.001674          0.002604   \n",
      "Day of the week_Wednesday         -0.001718         -0.001718   \n",
      "Traffic Situation_high             0.034509         -0.029697   \n",
      "Traffic Situation_low             -0.002651         -0.002651   \n",
      "Traffic Situation_normal          -0.005316          0.055759   \n",
      "\n",
      "                           Time_10:30:00 AM  ...  Time_9:45:00 PM  \\\n",
      "Date                               0.003401  ...         0.002551   \n",
      "CarCount                           0.006681  ...        -0.038568   \n",
      "BikeCount                          0.037653  ...        -0.042989   \n",
      "BusCount                           0.034908  ...        -0.043185   \n",
      "TruckCount                        -0.032421  ...         0.067505   \n",
      "...                                     ...  ...              ...   \n",
      "Day of the week_Tuesday            0.004025  ...        -0.000128   \n",
      "Day of the week_Wednesday         -0.000173  ...        -0.000173   \n",
      "Traffic Situation_high             0.020396  ...         0.060065   \n",
      "Traffic Situation_low              0.035541  ...        -0.022942   \n",
      "Traffic Situation_normal          -0.019018  ...         0.018432   \n",
      "\n",
      "                           Day of the week_Monday  Day of the week_Saturday  \\\n",
      "Date                                     0.116606                  0.032840   \n",
      "CarCount                                -0.002840                 -0.000183   \n",
      "BikeCount                               -0.028872                 -0.010066   \n",
      "BusCount                                 0.031388                  0.022713   \n",
      "TruckCount                               0.013002                  0.008124   \n",
      "...                                           ...                       ...   \n",
      "Day of the week_Tuesday                 -0.167665                 -0.168255   \n",
      "Day of the week_Wednesday               -0.167764                 -0.168354   \n",
      "Traffic Situation_high                   0.009292                 -0.017719   \n",
      "Traffic Situation_low                   -0.018629                 -0.019498   \n",
      "Traffic Situation_normal                 0.009113                  0.020628   \n",
      "\n",
      "                           Day of the week_Sunday  Day of the week_Thursday  \\\n",
      "Date                                     0.069238                 -0.112914   \n",
      "CarCount                                 0.006524                 -0.001492   \n",
      "BikeCount                               -0.018881                 -0.029079   \n",
      "BusCount                                 0.031581                  0.036470   \n",
      "TruckCount                               0.019220                 -0.001174   \n",
      "...                                           ...                       ...   \n",
      "Day of the week_Tuesday                 -0.167901                 -0.191295   \n",
      "Day of the week_Wednesday               -0.168000                 -0.191408   \n",
      "Traffic Situation_high                   0.031836                  0.001859   \n",
      "Traffic Situation_low                   -0.037100                 -0.024798   \n",
      "Traffic Situation_normal                 0.010825                  0.021810   \n",
      "\n",
      "                           Day of the week_Tuesday  Day of the week_Wednesday  \\\n",
      "Date                                      0.094868                  -0.171527   \n",
      "CarCount                                  0.003842                   0.007614   \n",
      "BikeCount                                -0.028001                  -0.020969   \n",
      "BusCount                                  0.027810                   0.031911   \n",
      "TruckCount                               -0.000055                   0.008204   \n",
      "...                                            ...                        ...   \n",
      "Day of the week_Tuesday                   1.000000                  -0.190400   \n",
      "Day of the week_Wednesday                -0.190400                   1.000000   \n",
      "Traffic Situation_high                    0.014242                   0.014110   \n",
      "Traffic Situation_low                    -0.018273                  -0.035004   \n",
      "Traffic Situation_normal                  0.010821                   0.017352   \n",
      "\n",
      "                           Traffic Situation_high  Traffic Situation_low  \\\n",
      "Date                                     0.010751              -0.016183   \n",
      "CarCount                                 0.107713              -0.175502   \n",
      "BikeCount                                0.042609              -0.125320   \n",
      "BusCount                                 0.195833              -0.245878   \n",
      "TruckCount                               0.146367              -0.252577   \n",
      "...                                           ...                    ...   \n",
      "Day of the week_Tuesday                  0.014242              -0.018273   \n",
      "Day of the week_Wednesday                0.014110              -0.035004   \n",
      "Traffic Situation_high                   1.000000              -0.113580   \n",
      "Traffic Situation_low                   -0.113580               1.000000   \n",
      "Traffic Situation_normal                -0.364494              -0.487508   \n",
      "\n",
      "                           Traffic Situation_normal  \n",
      "Date                                       0.012954  \n",
      "CarCount                                  -0.489345  \n",
      "BikeCount                                 -0.411405  \n",
      "BusCount                                  -0.415094  \n",
      "TruckCount                                 0.454718  \n",
      "...                                             ...  \n",
      "Day of the week_Tuesday                    0.010821  \n",
      "Day of the week_Wednesday                  0.017352  \n",
      "Traffic Situation_high                    -0.364494  \n",
      "Traffic Situation_low                     -0.487508  \n",
      "Traffic Situation_normal                   1.000000  \n",
      "\n",
      "[110 rows x 110 columns]\n"
     ]
    }
   ],
   "source": [
    "df_encoded = pd.get_dummies(df, drop_first=True)\n",
    "\n",
    "# Compute the correlation matrix on the encoded dataset\n",
    "corr_matrix = df_encoded.corr()\n",
    "\n",
    "# Display the correlation matrix\n",
    "print(corr_matrix)"
   ]
  },
  {
   "cell_type": "code",
   "execution_count": 31,
   "id": "4b81b1a7",
   "metadata": {},
   "outputs": [
    {
     "name": "stdout",
     "output_type": "stream",
     "text": [
      "                   Day of the week  CarCount  BikeCount  BusCount  TruckCount  \\\n",
      "Day of the week           1.000000  0.013478  -0.087412  0.115630    0.022574   \n",
      "CarCount                  0.013478  1.000000   0.705941  0.664491   -0.583984   \n",
      "BikeCount                -0.087412  0.705941   1.000000  0.581289   -0.585670   \n",
      "BusCount                  0.115630  0.664491   0.581289  1.000000   -0.533847   \n",
      "TruckCount                0.022574 -0.583984  -0.585670 -0.533847    1.000000   \n",
      "Total                     0.022747  0.971386   0.779261  0.763496   -0.508179   \n",
      "Traffic Situation         0.024173 -0.686521  -0.575332 -0.614372    0.454704   \n",
      "\n",
      "                      Total  Traffic Situation  \n",
      "Day of the week    0.022747           0.024173  \n",
      "CarCount           0.971386          -0.686521  \n",
      "BikeCount          0.779261          -0.575332  \n",
      "BusCount           0.763496          -0.614372  \n",
      "TruckCount        -0.508179           0.454704  \n",
      "Total              1.000000          -0.709894  \n",
      "Traffic Situation -0.709894           1.000000  \n"
     ]
    }
   ],
   "source": [
    "correlation_matrix = df_cleaned.corr()\n",
    "print(correlation_matrix)"
   ]
  },
  {
   "cell_type": "markdown",
   "id": "c0e69164",
   "metadata": {
    "id": "c0e69164"
   },
   "source": [
    "# Preprocess the data (if necessary)\n",
    "\n",
    "Before building models, it's crucial to preprocess the data to ensure it's clean and suitable for training. Follow these steps to prepare the dataset:\n",
    "\n",
    "1. **Check for Missing Values**: Determine if there are any missing values in the dataset and handle them appropriately. You can choose to fill them with a mean, median, or mode value, or drop rows with missing values if necessary.\n",
    "\n",
    "2. **Encode Categorical Variables**: Convert categorical variables into numerical representations. This can be done using techniques such as one-hot encoding and lable-encoder.\n",
    "\n",
    "3. **Feature Scaling**: Standardize or Normalize numerical features if needed to have a consistent scale.\n",
    "\n",
    "4. **Remove Unnecessary Columns**: Drop any columns that are not relevant for modeling."
   ]
  },
  {
   "cell_type": "code",
   "execution_count": 13,
   "id": "1c56d9ea",
   "metadata": {
    "id": "1c56d9ea"
   },
   "outputs": [
    {
     "data": {
      "text/plain": [
       "Time                 0\n",
       "Date                 0\n",
       "Day of the week      0\n",
       "CarCount             0\n",
       "BikeCount            0\n",
       "BusCount             0\n",
       "TruckCount           0\n",
       "Total                0\n",
       "Traffic Situation    0\n",
       "dtype: int64"
      ]
     },
     "execution_count": 13,
     "metadata": {},
     "output_type": "execute_result"
    }
   ],
   "source": [
    "df.isnull().sum()"
   ]
  },
  {
   "cell_type": "code",
   "execution_count": 18,
   "id": "21ed6180",
   "metadata": {},
   "outputs": [
    {
     "name": "stdout",
     "output_type": "stream",
     "text": [
      "             Time  Date  Day of the week  CarCount  BikeCount  BusCount  \\\n",
      "0     12:00:00 AM    10                5        13          2         2   \n",
      "1     12:15:00 AM    10                5        14          1         1   \n",
      "2     12:30:00 AM    10                5        10          2         2   \n",
      "3     12:45:00 AM    10                5        10          2         2   \n",
      "4      1:00:00 AM    10                5        11          2         1   \n",
      "...           ...   ...              ...       ...        ...       ...   \n",
      "6319  10:30:00 AM     9                4        26         16        13   \n",
      "6320   8:00:00 PM     9                4        72         25        10   \n",
      "6321   9:00:00 PM     9                4       107         13        14   \n",
      "6322   9:30:00 PM     9                4       106         18        13   \n",
      "6323  11:45:00 PM     9                4        14          3         1   \n",
      "\n",
      "      TruckCount  Total  Traffic Situation  \n",
      "0             24     41                  3  \n",
      "1             36     52                  3  \n",
      "2             32     46                  3  \n",
      "3             36     50                  3  \n",
      "4             34     48                  3  \n",
      "...          ...    ...                ...  \n",
      "6319          16     71                  3  \n",
      "6320          27    134                  1  \n",
      "6321          28    162                  1  \n",
      "6322          27    164                  1  \n",
      "6323          15     33                  3  \n",
      "\n",
      "[6324 rows x 9 columns]\n"
     ]
    }
   ],
   "source": [
    "label_encoder = LabelEncoder()\n",
    "df['Day of the week'] = label_encoder.fit_transform(df['Day of the week'])\n",
    "df['Traffic Situation'] = label_encoder.fit_transform(df['Traffic Situation'])\n",
    "\n",
    "print(df)"
   ]
  },
  {
   "cell_type": "code",
   "execution_count": 10,
   "id": "2f4332e3",
   "metadata": {},
   "outputs": [
    {
     "name": "stdout",
     "output_type": "stream",
     "text": [
      "      Date  CarCount  BikeCount  BusCount  TruckCount     Total  \\\n",
      "0       10 -1.159175  -0.881214 -0.857050    0.498124 -1.192287   \n",
      "1       10 -1.136604  -0.969218 -0.938226    1.617112 -0.995318   \n",
      "2       10 -1.226890  -0.881214 -0.857050    1.244116 -1.102756   \n",
      "3       10 -1.226890  -0.881214 -0.857050    1.617112 -1.031131   \n",
      "4       10 -1.204319  -0.881214 -0.938226    1.430614 -1.066943   \n",
      "...    ...       ...        ...       ...         ...       ...   \n",
      "6319     9 -0.865746   0.350849  0.035890   -0.247868 -0.655099   \n",
      "6320     9  0.172545   1.142889 -0.207639    0.777871  0.472996   \n",
      "6321     9  0.962549   0.086836  0.117066    0.871120  0.974371   \n",
      "6322     9  0.939977   0.526858  0.035890    0.777871  1.010184   \n",
      "6323     9 -1.136604  -0.793209 -0.938226   -0.341117 -1.335537   \n",
      "\n",
      "      Time_10:00:00 PM  Time_10:15:00 AM  Time_10:15:00 PM  Time_10:30:00 AM  \\\n",
      "0                False             False             False             False   \n",
      "1                False             False             False             False   \n",
      "2                False             False             False             False   \n",
      "3                False             False             False             False   \n",
      "4                False             False             False             False   \n",
      "...                ...               ...               ...               ...   \n",
      "6319             False             False             False              True   \n",
      "6320             False             False             False             False   \n",
      "6321             False             False             False             False   \n",
      "6322             False             False             False             False   \n",
      "6323             False             False             False             False   \n",
      "\n",
      "      ...  Time_9:45:00 PM  Day of the week_Monday  Day of the week_Saturday  \\\n",
      "0     ...            False                   False                     False   \n",
      "1     ...            False                   False                     False   \n",
      "2     ...            False                   False                     False   \n",
      "3     ...            False                   False                     False   \n",
      "4     ...            False                   False                     False   \n",
      "...   ...              ...                     ...                       ...   \n",
      "6319  ...            False                   False                     False   \n",
      "6320  ...            False                   False                     False   \n",
      "6321  ...            False                   False                     False   \n",
      "6322  ...            False                   False                     False   \n",
      "6323  ...            False                   False                     False   \n",
      "\n",
      "      Day of the week_Sunday  Day of the week_Thursday  \\\n",
      "0                      False                     False   \n",
      "1                      False                     False   \n",
      "2                      False                     False   \n",
      "3                      False                     False   \n",
      "4                      False                     False   \n",
      "...                      ...                       ...   \n",
      "6319                   False                      True   \n",
      "6320                   False                      True   \n",
      "6321                   False                      True   \n",
      "6322                   False                      True   \n",
      "6323                   False                      True   \n",
      "\n",
      "      Day of the week_Tuesday  Day of the week_Wednesday  \\\n",
      "0                        True                      False   \n",
      "1                        True                      False   \n",
      "2                        True                      False   \n",
      "3                        True                      False   \n",
      "4                        True                      False   \n",
      "...                       ...                        ...   \n",
      "6319                    False                      False   \n",
      "6320                    False                      False   \n",
      "6321                    False                      False   \n",
      "6322                    False                      False   \n",
      "6323                    False                      False   \n",
      "\n",
      "      Traffic Situation_high  Traffic Situation_low  Traffic Situation_normal  \n",
      "0                      False                  False                      True  \n",
      "1                      False                  False                      True  \n",
      "2                      False                  False                      True  \n",
      "3                      False                  False                      True  \n",
      "4                      False                  False                      True  \n",
      "...                      ...                    ...                       ...  \n",
      "6319                   False                  False                      True  \n",
      "6320                    True                  False                     False  \n",
      "6321                    True                  False                     False  \n",
      "6322                    True                  False                     False  \n",
      "6323                   False                  False                      True  \n",
      "\n",
      "[6324 rows x 110 columns]\n"
     ]
    }
   ],
   "source": [
    "features = ['CarCount', 'BikeCount', 'BusCount', 'TruckCount', 'Total']\n",
    "scaler = StandardScaler()\n",
    "df_encoded[features] = scaler.fit_transform(df_encoded[features])\n",
    "print(df_encoded)"
   ]
  },
  {
   "cell_type": "code",
   "execution_count": 18,
   "id": "56449066",
   "metadata": {},
   "outputs": [
    {
     "name": "stdout",
     "output_type": "stream",
     "text": [
      "Traffic Situation\n",
      "normal    3858\n",
      "heavy     1137\n",
      "low        834\n",
      "high       495\n",
      "Name: count, dtype: int64\n"
     ]
    }
   ],
   "source": [
    "traffic_situation_counts = df['Traffic Situation'].value_counts()\n",
    "\n",
    "print(traffic_situation_counts)"
   ]
  },
  {
   "cell_type": "markdown",
   "id": "15d85221",
   "metadata": {
    "id": "15d85221"
   },
   "source": [
    "# Visualize the Data\n",
    "\n",
    "Visualizing the data helps in understanding the relationships between features and the target variable. Below are some common visualizations that can be used to gain insights into the dataset:\n",
    "\n",
    "1. **Count Plots for Categorical Features**: Use count plots to visualize the frequency of categorical features such as the `Traffic Situation`.\n",
    "\n",
    "2. **Correlation Heatmap**: Create a heatmap to visualize the correlation between numerical features and identify any strong relationships."
   ]
  },
  {
   "cell_type": "code",
   "execution_count": 36,
   "id": "124f0bea",
   "metadata": {
    "id": "124f0bea"
   },
   "outputs": [
    {
     "data": {
      "image/png": "[encoded data removed]",
      "text/plain": [
       "<Figure size 800x600 with 1 Axes>"
      ]
     },
     "metadata": {},
     "output_type": "display_data"
    }
   ],
   "source": [
    "plt.figure(figsize=(8, 6))\n",
    "sns.countplot(x='Traffic Situation', data=df)\n",
    "plt.title('Count Plot for Traffic Situation')\n",
    "plt.show()"
   ]
  },
  {
   "cell_type": "code",
   "execution_count": 13,
   "id": "26150160",
   "metadata": {},
   "outputs": [
    {
     "name": "stdout",
     "output_type": "stream",
     "text": [
      "  Day of the week  CarCount  BikeCount  BusCount  TruckCount  Total  \\\n",
      "0         Tuesday        13          2         2          24     41   \n",
      "1         Tuesday        14          1         1          36     52   \n",
      "2         Tuesday        10          2         2          32     46   \n",
      "3         Tuesday        10          2         2          36     50   \n",
      "4         Tuesday        11          2         1          34     48   \n",
      "\n",
      "  Traffic Situation  \n",
      "0            normal  \n",
      "1            normal  \n",
      "2            normal  \n",
      "3            normal  \n",
      "4            normal  \n"
     ]
    }
   ],
   "source": [
    "df_dropped = df.drop(columns=['Date', 'Time'])\n",
    "\n",
    "print(df_dropped.head())"
   ]
  },
  {
   "cell_type": "code",
   "execution_count": 14,
   "id": "e76d0c51",
   "metadata": {},
   "outputs": [
    {
     "ename": "ValueError",
     "evalue": "could not convert string to float: '12:00:00 AM'",
     "output_type": "error",
     "traceback": [
      "\u001b[0;31m---------------------------------------------------------------------------\u001b[0m",
      "\u001b[0;31mValueError\u001b[0m                                Traceback (most recent call last)",
      "Cell \u001b[0;32mIn[14], line 1\u001b[0m\n\u001b[0;32m----> 1\u001b[0m corr_matrix \u001b[38;5;241m=\u001b[39m df\u001b[38;5;241m.\u001b[39mcorr()\n\u001b[1;32m      3\u001b[0m \u001b[38;5;66;03m# Plot the heatmap\u001b[39;00m\n\u001b[1;32m      4\u001b[0m plt\u001b[38;5;241m.\u001b[39mfigure(figsize\u001b[38;5;241m=\u001b[39m(\u001b[38;5;241m10\u001b[39m, \u001b[38;5;241m8\u001b[39m))\n",
      "File \u001b[0;32m~/anaconda3/lib/python3.11/site-packages/pandas/core/frame.py:10054\u001b[0m, in \u001b[0;36mDataFrame.corr\u001b[0;34m(self, method, min_periods, numeric_only)\u001b[0m\n\u001b[1;32m  10052\u001b[0m cols \u001b[38;5;241m=\u001b[39m data\u001b[38;5;241m.\u001b[39mcolumns\n\u001b[1;32m  10053\u001b[0m idx \u001b[38;5;241m=\u001b[39m cols\u001b[38;5;241m.\u001b[39mcopy()\n\u001b[0;32m> 10054\u001b[0m mat \u001b[38;5;241m=\u001b[39m data\u001b[38;5;241m.\u001b[39mto_numpy(dtype\u001b[38;5;241m=\u001b[39m\u001b[38;5;28mfloat\u001b[39m, na_value\u001b[38;5;241m=\u001b[39mnp\u001b[38;5;241m.\u001b[39mnan, copy\u001b[38;5;241m=\u001b[39m\u001b[38;5;28;01mFalse\u001b[39;00m)\n\u001b[1;32m  10056\u001b[0m \u001b[38;5;28;01mif\u001b[39;00m method \u001b[38;5;241m==\u001b[39m \u001b[38;5;124m\"\u001b[39m\u001b[38;5;124mpearson\u001b[39m\u001b[38;5;124m\"\u001b[39m:\n\u001b[1;32m  10057\u001b[0m     correl \u001b[38;5;241m=\u001b[39m libalgos\u001b[38;5;241m.\u001b[39mnancorr(mat, minp\u001b[38;5;241m=\u001b[39mmin_periods)\n",
      "File \u001b[0;32m~/anaconda3/lib/python3.11/site-packages/pandas/core/frame.py:1838\u001b[0m, in \u001b[0;36mDataFrame.to_numpy\u001b[0;34m(self, dtype, copy, na_value)\u001b[0m\n\u001b[1;32m   1836\u001b[0m \u001b[38;5;28;01mif\u001b[39;00m dtype \u001b[38;5;129;01mis\u001b[39;00m \u001b[38;5;129;01mnot\u001b[39;00m \u001b[38;5;28;01mNone\u001b[39;00m:\n\u001b[1;32m   1837\u001b[0m     dtype \u001b[38;5;241m=\u001b[39m np\u001b[38;5;241m.\u001b[39mdtype(dtype)\n\u001b[0;32m-> 1838\u001b[0m result \u001b[38;5;241m=\u001b[39m \u001b[38;5;28mself\u001b[39m\u001b[38;5;241m.\u001b[39m_mgr\u001b[38;5;241m.\u001b[39mas_array(dtype\u001b[38;5;241m=\u001b[39mdtype, copy\u001b[38;5;241m=\u001b[39mcopy, na_value\u001b[38;5;241m=\u001b[39mna_value)\n\u001b[1;32m   1839\u001b[0m \u001b[38;5;28;01mif\u001b[39;00m result\u001b[38;5;241m.\u001b[39mdtype \u001b[38;5;129;01mis\u001b[39;00m \u001b[38;5;129;01mnot\u001b[39;00m dtype:\n\u001b[1;32m   1840\u001b[0m     result \u001b[38;5;241m=\u001b[39m np\u001b[38;5;241m.\u001b[39marray(result, dtype\u001b[38;5;241m=\u001b[39mdtype, copy\u001b[38;5;241m=\u001b[39m\u001b[38;5;28;01mFalse\u001b[39;00m)\n",
      "File \u001b[0;32m~/anaconda3/lib/python3.11/site-packages/pandas/core/internals/managers.py:1732\u001b[0m, in \u001b[0;36mBlockManager.as_array\u001b[0;34m(self, dtype, copy, na_value)\u001b[0m\n\u001b[1;32m   1730\u001b[0m         arr\u001b[38;5;241m.\u001b[39mflags\u001b[38;5;241m.\u001b[39mwriteable \u001b[38;5;241m=\u001b[39m \u001b[38;5;28;01mFalse\u001b[39;00m\n\u001b[1;32m   1731\u001b[0m \u001b[38;5;28;01melse\u001b[39;00m:\n\u001b[0;32m-> 1732\u001b[0m     arr \u001b[38;5;241m=\u001b[39m \u001b[38;5;28mself\u001b[39m\u001b[38;5;241m.\u001b[39m_interleave(dtype\u001b[38;5;241m=\u001b[39mdtype, na_value\u001b[38;5;241m=\u001b[39mna_value)\n\u001b[1;32m   1733\u001b[0m     \u001b[38;5;66;03m# The underlying data was copied within _interleave, so no need\u001b[39;00m\n\u001b[1;32m   1734\u001b[0m     \u001b[38;5;66;03m# to further copy if copy=True or setting na_value\u001b[39;00m\n\u001b[1;32m   1736\u001b[0m \u001b[38;5;28;01mif\u001b[39;00m na_value \u001b[38;5;129;01mis\u001b[39;00m \u001b[38;5;129;01mnot\u001b[39;00m lib\u001b[38;5;241m.\u001b[39mno_default:\n",
      "File \u001b[0;32m~/anaconda3/lib/python3.11/site-packages/pandas/core/internals/managers.py:1794\u001b[0m, in \u001b[0;36mBlockManager._interleave\u001b[0;34m(self, dtype, na_value)\u001b[0m\n\u001b[1;32m   1792\u001b[0m     \u001b[38;5;28;01melse\u001b[39;00m:\n\u001b[1;32m   1793\u001b[0m         arr \u001b[38;5;241m=\u001b[39m blk\u001b[38;5;241m.\u001b[39mget_values(dtype)\n\u001b[0;32m-> 1794\u001b[0m     result[rl\u001b[38;5;241m.\u001b[39mindexer] \u001b[38;5;241m=\u001b[39m arr\n\u001b[1;32m   1795\u001b[0m     itemmask[rl\u001b[38;5;241m.\u001b[39mindexer] \u001b[38;5;241m=\u001b[39m \u001b[38;5;241m1\u001b[39m\n\u001b[1;32m   1797\u001b[0m \u001b[38;5;28;01mif\u001b[39;00m \u001b[38;5;129;01mnot\u001b[39;00m itemmask\u001b[38;5;241m.\u001b[39mall():\n",
      "\u001b[0;31mValueError\u001b[0m: could not convert string to float: '12:00:00 AM'"
     ]
    }
   ],
   "source": [
    "corr_matrix = df.corr()\n",
    "plt.figure(figsize=(10, 8))\n",
    "sns.heatmap(corr_matrix, annot=True, cmap='coolwarm', linewidths=0.5)\n",
    "plt.title('Correlation Heatmap of Numerical Features')\n",
    "plt.show()"
   ]
  },
  {
   "cell_type": "markdown",
   "id": "2104eb8e",
   "metadata": {
    "id": "2104eb8e"
   },
   "source": [
    "# Split the Dataset\n",
    "\n",
    "1. **Define Features and Target**: Separate the dataset into features (`X`) and the target variable (`y`).\n",
    "\n",
    "2. **Train-Test Split**: Use the `train_test_split` function from `sklearn.model_selection` to split the data."
   ]
  },
  {
   "cell_type": "code",
   "execution_count": 40,
   "id": "28af5f2b",
   "metadata": {},
   "outputs": [],
   "source": [
    "X = df.drop(columns=['Traffic Situation'])  # Features\n",
    "y = df['Traffic Situation']"
   ]
  },
  {
   "cell_type": "code",
   "execution_count": 41,
   "id": "f3a3d4e9",
   "metadata": {
    "id": "f3a3d4e9"
   },
   "outputs": [],
   "source": [
    "X_train, X_test, y_train, y_test = train_test_split(X, y, test_size=0.3, random_state=42)"
   ]
  },
  {
   "cell_type": "markdown",
   "id": "bdcb9a0a",
   "metadata": {
    "id": "bdcb9a0a"
   },
   "source": [
    "# Initialize and Train the Classifiers"
   ]
  },
  {
   "cell_type": "markdown",
   "id": "ea773220",
   "metadata": {
    "id": "ea773220"
   },
   "source": [
    "## Bagging\n",
    "Chose the bagging model to go with and initialize and train a the model."
   ]
  },
  {
   "cell_type": "code",
   "execution_count": 45,
   "id": "ff7f857e",
   "metadata": {},
   "outputs": [
    {
     "data": {
      "text/html": [
       "<div>\n",
       "<style scoped>\n",
       "    .dataframe tbody tr th:only-of-type {\n",
       "        vertical-align: middle;\n",
       "    }\n",
       "\n",
       "    .dataframe tbody tr th {\n",
       "        vertical-align: top;\n",
       "    }\n",
       "\n",
       "    .dataframe thead th {\n",
       "        text-align: right;\n",
       "    }\n",
       "</style>\n",
       "<table border=\"1\" class=\"dataframe\">\n",
       "  <thead>\n",
       "    <tr style=\"text-align: right;\">\n",
       "      <th></th>\n",
       "      <th>Day of the week</th>\n",
       "      <th>CarCount</th>\n",
       "      <th>BikeCount</th>\n",
       "      <th>BusCount</th>\n",
       "      <th>TruckCount</th>\n",
       "      <th>Total</th>\n",
       "      <th>Traffic Situation</th>\n",
       "    </tr>\n",
       "  </thead>\n",
       "  <tbody>\n",
       "    <tr>\n",
       "      <th>0</th>\n",
       "      <td>5</td>\n",
       "      <td>13</td>\n",
       "      <td>2</td>\n",
       "      <td>2</td>\n",
       "      <td>24</td>\n",
       "      <td>41</td>\n",
       "      <td>3</td>\n",
       "    </tr>\n",
       "    <tr>\n",
       "      <th>1</th>\n",
       "      <td>5</td>\n",
       "      <td>14</td>\n",
       "      <td>1</td>\n",
       "      <td>1</td>\n",
       "      <td>36</td>\n",
       "      <td>52</td>\n",
       "      <td>3</td>\n",
       "    </tr>\n",
       "    <tr>\n",
       "      <th>2</th>\n",
       "      <td>5</td>\n",
       "      <td>10</td>\n",
       "      <td>2</td>\n",
       "      <td>2</td>\n",
       "      <td>32</td>\n",
       "      <td>46</td>\n",
       "      <td>3</td>\n",
       "    </tr>\n",
       "    <tr>\n",
       "      <th>3</th>\n",
       "      <td>5</td>\n",
       "      <td>10</td>\n",
       "      <td>2</td>\n",
       "      <td>2</td>\n",
       "      <td>36</td>\n",
       "      <td>50</td>\n",
       "      <td>3</td>\n",
       "    </tr>\n",
       "    <tr>\n",
       "      <th>4</th>\n",
       "      <td>5</td>\n",
       "      <td>11</td>\n",
       "      <td>2</td>\n",
       "      <td>1</td>\n",
       "      <td>34</td>\n",
       "      <td>48</td>\n",
       "      <td>3</td>\n",
       "    </tr>\n",
       "    <tr>\n",
       "      <th>...</th>\n",
       "      <td>...</td>\n",
       "      <td>...</td>\n",
       "      <td>...</td>\n",
       "      <td>...</td>\n",
       "      <td>...</td>\n",
       "      <td>...</td>\n",
       "      <td>...</td>\n",
       "    </tr>\n",
       "    <tr>\n",
       "      <th>6319</th>\n",
       "      <td>4</td>\n",
       "      <td>26</td>\n",
       "      <td>16</td>\n",
       "      <td>13</td>\n",
       "      <td>16</td>\n",
       "      <td>71</td>\n",
       "      <td>3</td>\n",
       "    </tr>\n",
       "    <tr>\n",
       "      <th>6320</th>\n",
       "      <td>4</td>\n",
       "      <td>72</td>\n",
       "      <td>25</td>\n",
       "      <td>10</td>\n",
       "      <td>27</td>\n",
       "      <td>134</td>\n",
       "      <td>1</td>\n",
       "    </tr>\n",
       "    <tr>\n",
       "      <th>6321</th>\n",
       "      <td>4</td>\n",
       "      <td>107</td>\n",
       "      <td>13</td>\n",
       "      <td>14</td>\n",
       "      <td>28</td>\n",
       "      <td>162</td>\n",
       "      <td>1</td>\n",
       "    </tr>\n",
       "    <tr>\n",
       "      <th>6322</th>\n",
       "      <td>4</td>\n",
       "      <td>106</td>\n",
       "      <td>18</td>\n",
       "      <td>13</td>\n",
       "      <td>27</td>\n",
       "      <td>164</td>\n",
       "      <td>1</td>\n",
       "    </tr>\n",
       "    <tr>\n",
       "      <th>6323</th>\n",
       "      <td>4</td>\n",
       "      <td>14</td>\n",
       "      <td>3</td>\n",
       "      <td>1</td>\n",
       "      <td>15</td>\n",
       "      <td>33</td>\n",
       "      <td>3</td>\n",
       "    </tr>\n",
       "  </tbody>\n",
       "</table>\n",
       "<p>6324 rows × 7 columns</p>\n",
       "</div>"
      ],
      "text/plain": [
       "      Day of the week  CarCount  BikeCount  BusCount  TruckCount  Total  \\\n",
       "0                   5        13          2         2          24     41   \n",
       "1                   5        14          1         1          36     52   \n",
       "2                   5        10          2         2          32     46   \n",
       "3                   5        10          2         2          36     50   \n",
       "4                   5        11          2         1          34     48   \n",
       "...               ...       ...        ...       ...         ...    ...   \n",
       "6319                4        26         16        13          16     71   \n",
       "6320                4        72         25        10          27    134   \n",
       "6321                4       107         13        14          28    162   \n",
       "6322                4       106         18        13          27    164   \n",
       "6323                4        14          3         1          15     33   \n",
       "\n",
       "      Traffic Situation  \n",
       "0                     3  \n",
       "1                     3  \n",
       "2                     3  \n",
       "3                     3  \n",
       "4                     3  \n",
       "...                 ...  \n",
       "6319                  3  \n",
       "6320                  1  \n",
       "6321                  1  \n",
       "6322                  1  \n",
       "6323                  3  \n",
       "\n",
       "[6324 rows x 7 columns]"
      ]
     },
     "execution_count": 45,
     "metadata": {},
     "output_type": "execute_result"
    }
   ],
   "source": [
    "df.drop(columns=['Time','Date'])"
   ]
  },
  {
   "cell_type": "code",
   "execution_count": null,
   "id": "cd1e57d6",
   "metadata": {},
   "outputs": [],
   "source": [
    "random_forest_classifier = RandomForestClassifier(n_estimators=100, random_state=42)\n",
    "random_forest_classifier.fit(X_train, y_train)\n",
    "\n",
    "predictions= random_forest_classifier.predict(X_test)"
   ]
  },
  {
   "cell_type": "markdown",
   "id": "fb3a2438",
   "metadata": {
    "id": "fb3a2438"
   },
   "source": [
    "### Evaluate the model performance"
   ]
  },
  {
   "cell_type": "code",
   "execution_count": null,
   "id": "38d965b4",
   "metadata": {
    "id": "38d965b4"
   },
   "outputs": [],
   "source": [
    "accuracy= accuracy_score(y_test, predictions)\n",
    "print(f'Random Forest Model Accuracy: {accuracy * 100:.2f}%')"
   ]
  },
  {
   "cell_type": "markdown",
   "id": "1790e79e",
   "metadata": {
    "id": "1790e79e"
   },
   "source": [
    "## Boosting\n",
    "Chose the Boosting model to go with and initialize and train a the model."
   ]
  },
  {
   "cell_type": "code",
   "execution_count": null,
   "id": "f09a87bb",
   "metadata": {},
   "outputs": [],
   "source": [
    "ada_clf = AdaBoostClassifier(\n",
    "    base_estimator=DecisionTreeClassifier(max_depth=1),\n",
    "    n_estimators=100,\n",
    "    random_state=42\n",
    ")\n",
    "ada_clf.fit(X_train, y_train)\n",
    "ada_preds = ada_clf.predict(X_test)"
   ]
  },
  {
   "cell_type": "markdown",
   "id": "6646ab65",
   "metadata": {
    "id": "6646ab65"
   },
   "source": [
    "### Evaluate the model performance"
   ]
  },
  {
   "cell_type": "code",
   "execution_count": null,
   "id": "d9915c9c",
   "metadata": {
    "id": "d9915c9c"
   },
   "outputs": [],
   "source": [
    "ada_accuracy = accuracy_score(y_test, ada_preds)\n",
    "print(f'AdaBoost Model Accuracy: {ada_accuracy * 100:.2f}%')"
   ]
  },
  {
   "cell_type": "markdown",
   "id": "fc2255c5",
   "metadata": {
    "id": "fc2255c5"
   },
   "source": [
    "## Stacking Classifier\n",
    "Combine the previous classifiers as the base models using a Stacking Classifier."
   ]
  },
  {
   "cell_type": "code",
   "execution_count": 5,
   "id": "23b6f377",
   "metadata": {
    "id": "23b6f377"
   },
   "outputs": [],
   "source": [
    "base_models = [\n",
    "    ('decision_tree', DecisionTreeClassifier(random_state=42)),\n",
    "    ('random_forest', RandomForestClassifier(random_state=42))\n",
    "]\n",
    "\n",
    "meta_model = LogisticRegression()"
   ]
  },
  {
   "cell_type": "markdown",
   "id": "cb295dff",
   "metadata": {
    "id": "cb295dff"
   },
   "source": [
    "### Define meta-learner (LogisticRegression)"
   ]
  },
  {
   "cell_type": "code",
   "execution_count": null,
   "id": "7b4eb2a7",
   "metadata": {
    "id": "7b4eb2a7"
   },
   "outputs": [],
   "source": [
    "meta_model = LogisticRegression()"
   ]
  },
  {
   "cell_type": "markdown",
   "id": "0f74e88d",
   "metadata": {
    "id": "0f74e88d"
   },
   "source": [
    "### Initialize and Train the Stacking Classifier\n",
    "\n",
    "Stacking combines multiple models (base learners) using a meta-learner. The meta-learner is trained on the predictions of the base learners to make the final prediction."
   ]
  },
  {
   "cell_type": "code",
   "execution_count": null,
   "id": "c53f148a",
   "metadata": {
    "id": "c53f148a"
   },
   "outputs": [],
   "source": [
    "staking_classifier = StackingClassifier(estimators=base_models, final_estimator=meta_model, cv=5)\n",
    "staking_classifier.fit(X_train, y_train)"
   ]
  },
  {
   "cell_type": "markdown",
   "id": "d24a1137",
   "metadata": {
    "id": "d24a1137"
   },
   "source": [
    "### Evaluate the model performance"
   ]
  },
  {
   "cell_type": "code",
   "execution_count": null,
   "id": "4cd40cf6",
   "metadata": {
    "id": "4cd40cf6"
   },
   "outputs": [],
   "source": [
    "accuracy = accuracy_score(y_test, predictions)\n",
    "print(f'Staking Classifier Model Accuracy: {accuracy *100:.2f}%')"
   ]
  },
  {
   "cell_type": "markdown",
   "id": "4129f6a0",
   "metadata": {
    "id": "4129f6a0"
   },
   "source": [
    "# Notebook Questions:\n",
    "\n",
    "After completing the tasks in this notebook, take some time to reflect on the work you have done and answer the following questions. These questions are designed to help you think critically about the steps you took and the decisions you made.\n",
    "\n",
    "* **Feature Selection and Engineering**\n",
    "   - Which features did you find most important for predicting churn, and why do you think they are significant?\n",
    "   - Did you perform any feature engineering? If so, what new features did you create, and how did they improve the model performance?\n",
    "\n",
    "* **Model Selection**\n",
    "   - Why did you choose the specific ensemble methods you implemented? What are the advantages of using ensemble methods over single models?\n",
    "   - Compare the performance of different models you used. Which model performed the best, and what do you think contributed to its success?\n",
    "\n",
    "* **Model Evaluation**\n",
    "   - Which evaluation metrics did you use to assess the model performance, and why? What insights did these metrics provide about the models' strengths and weaknesses?\n"
   ]
  },
  {
   "cell_type": "markdown",
   "id": "5a4dd465",
   "metadata": {
    "id": "5a4dd465"
   },
   "source": [
    "# Answer here:"
   ]
  },
  {
   "cell_type": "markdown",
   "id": "e3f6bf58",
   "metadata": {
    "id": "e3f6bf58"
   },
   "source": []
  }
 ],
 "metadata": {
  "colab": {
   "provenance": []
  },
  "kernelspec": {
   "display_name": "Python 3 (ipykernel)",
   "language": "python",
   "name": "python3"
  },
  "language_info": {
   "codemirror_mode": {
    "name": "ipython",
    "version": 3
   },
   "file_extension": ".py",
   "mimetype": "text/x-python",
   "name": "python",
   "nbconvert_exporter": "python",
   "pygments_lexer": "ipython3",
   "version": "3.11.5"
  }
 },
 "nbformat": 4,
 "nbformat_minor": 5
}
